{
 "cells": [
  {
   "cell_type": "markdown",
   "metadata": {},
   "source": [
    "## 2002431 MSc Applied AI & UX\n",
    "### MAT510 Introduction to Data Science\n",
    "#### Case Study 1 \n",
    "\n",
    "Please refer to the readme for details on the categories within the dataset"
   ]
  },
  {
   "cell_type": "code",
   "execution_count": 1,
   "metadata": {},
   "outputs": [],
   "source": [
    "import helper as h #this script contains much of the functionality used in the notebook\n",
    "import pandas as pd"
   ]
  },
  {
   "cell_type": "code",
   "execution_count": 2,
   "metadata": {},
   "outputs": [],
   "source": [
    "data_map = h.load_csv_as_map('dataset.csv') #load a csv file as a map."
   ]
  },
  {
   "cell_type": "code",
   "execution_count": null,
   "metadata": {},
   "outputs": [],
   "source": [
    "map_number_entries = h.number_of_entries(data_map) #calculate the number of data points"
   ]
  },
  {
   "cell_type": "code",
   "execution_count": null,
   "metadata": {},
   "outputs": [],
   "source": [
    "data_map_stats = h.descriptive_stats(data_map) #my own version of describe which includes variance and range.\n",
    "for keys, values in data_map_stats.items():\n",
    "    print (keys + \" \" + repr(values))"
   ]
  },
  {
   "cell_type": "markdown",
   "metadata": {},
   "source": [
    "Lets put the values into a pandas data frame to make it easier to read in the output"
   ]
  },
  {
   "cell_type": "code",
   "execution_count": null,
   "metadata": {},
   "outputs": [],
   "source": [
    "map_stats_df = pd.DataFrame(data_map_stats)\n",
    "map_stats_df"
   ]
  },
  {
   "cell_type": "markdown",
   "metadata": {},
   "source": [
    "Now lets use pandas to check the data was loaded correctly\n"
   ]
  },
  {
   "cell_type": "code",
   "execution_count": 6,
   "metadata": {},
   "outputs": [],
   "source": [
    "import pandas_helper as ph #this contains a few helpful functions that use pandas datframes"
   ]
  },
  {
   "cell_type": "code",
   "execution_count": 7,
   "metadata": {},
   "outputs": [],
   "source": [
    "df = pd.read_csv('dataset.csv', encoding='utf-8')#load the dataset as a pandas dataframe\n",
    "df = df.drop('Unnamed: 0', axis=1)"
   ]
  },
  {
   "cell_type": "code",
   "execution_count": null,
   "metadata": {},
   "outputs": [],
   "source": [
    "print('Are the number of data points the same? ' + repr(h.number_of_entries(data_map) == ph.number_of_entries(df)))"
   ]
  },
  {
   "cell_type": "markdown",
   "metadata": {},
   "source": [
    "As we can see the data has been loaded correctly "
   ]
  },
  {
   "cell_type": "code",
   "execution_count": null,
   "metadata": {},
   "outputs": [],
   "source": [
    "statsdf = ph.descriptive_stats_extended(df)\n",
    "statsdf"
   ]
  },
  {
   "cell_type": "code",
   "execution_count": null,
   "metadata": {},
   "outputs": [],
   "source": [
    "map_stats_df"
   ]
  },
  {
   "cell_type": "markdown",
   "metadata": {},
   "source": [
    "As we can see in the output for map_stats_df and statsdf that they are mostly identical. There are some minor differences in some of the stats after several decimal places but these differences are so small that it is not significant for this exercise"
   ]
  },
  {
   "cell_type": "markdown",
   "metadata": {},
   "source": [
    "### Run the following code block to create a new dataset from the initial set by selecting for numerical values\n"
   ]
  },
  {
   "cell_type": "code",
   "execution_count": null,
   "metadata": {},
   "outputs": [],
   "source": [
    "edited_df = ph.edit_dataframe(df) #this function can be used to edit a data frame using text inputs\n",
    "\n",
    "ph.number_of_entries(edited_df)\n",
    "ph.descriptive_stats_extended(edited_df)\n",
    "ph.data_summary(edited_df)"
   ]
  },
  {
   "cell_type": "markdown",
   "metadata": {},
   "source": [
    "### Run the code block below to save the edited dataframe\n"
   ]
  },
  {
   "cell_type": "code",
   "execution_count": 25,
   "metadata": {},
   "outputs": [],
   "source": [
    "import os\n",
    "\n",
    "filename = input(\"please type in the file name\") + \".csv\"\n",
    "\n",
    "# Check if file exists\n",
    "if not os.path.exists(filename):\n",
    "    edited_df.to_csv(filename, index=False)\n",
    "else:\n",
    "    print(f\"The file '{filename}' already exists.\")"
   ]
  },
  {
   "cell_type": "markdown",
   "metadata": {},
   "source": [
    "Here are some edited csv files I prepared earlier. I selected for popularity to see if increasing popularity would affect any of the other data points. Lets use the load_csv_as_map function to have a look at them."
   ]
  },
  {
   "cell_type": "code",
   "execution_count": null,
   "metadata": {},
   "outputs": [],
   "source": [
    "popularity50_map = h.load_csv_as_map('popularity50.csv')\n",
    "\n",
    "h.number_of_entries(popularity50_map)\n",
    "\n",
    "\n",
    "popularity50_map_stats = h.descriptive_stats(popularity50_map)\n",
    "pd.DataFrame(popularity50_map_stats) #put it into a dataframe to make it easier to read in output"
   ]
  },
  {
   "cell_type": "code",
   "execution_count": null,
   "metadata": {},
   "outputs": [],
   "source": [
    "popularity67_map = h.load_csv_as_map('popularity67.csv')\n",
    "\n",
    "h.number_of_entries(popularity67_map)\n",
    "\n",
    "popularity67_map_stats = h.descriptive_stats(popularity67_map)\n",
    "pd.DataFrame(popularity67_map_stats) #put it into a dataframe to make it easier to read in output"
   ]
  },
  {
   "cell_type": "code",
   "execution_count": null,
   "metadata": {},
   "outputs": [],
   "source": [
    "popularity90_map = h.load_csv_as_map('popularity90.csv')\n",
    "\n",
    "h.number_of_entries(popularity90_map)\n",
    "\n",
    "popularity90_map_stats = h.descriptive_stats(popularity90_map)\n",
    "pd.DataFrame(popularity90_map_stats) #put it into a dataframe to make it easier to read in output"
   ]
  },
  {
   "cell_type": "code",
   "execution_count": null,
   "metadata": {},
   "outputs": [],
   "source": [
    "data_map_stats = h.convert_ms_array(data_map_stats) #lets convert the duration in miliseconds to minutes and seconds so its easier to read\n",
    "popularity50_map_stats = h.convert_ms_array(popularity50_map_stats)\n",
    "popularity67_map_stats = h.convert_ms_array(popularity67_map_stats)\n",
    "popularity90_map_stats = h.convert_ms_array(popularity90_map_stats)\n",
    "print(\"Total dataset\")\n",
    "data_map_stats_df = pd.DataFrame(data_map_stats)\n",
    "data_map_stats_df"
   ]
  },
  {
   "cell_type": "code",
   "execution_count": null,
   "metadata": {},
   "outputs": [],
   "source": [
    "print(\"Popularity over 50\")\n",
    "popularity50_map_stats_df = pd.DataFrame(popularity50_map_stats)\n",
    "popularity50_map_stats_df"
   ]
  },
  {
   "cell_type": "code",
   "execution_count": null,
   "metadata": {},
   "outputs": [],
   "source": [
    "print(\"Popularity over 67\")\n",
    "popularity77_map_stats_df = pd.DataFrame(popularity67_map_stats)\n",
    "popularity77_map_stats_df"
   ]
  },
  {
   "cell_type": "code",
   "execution_count": null,
   "metadata": {},
   "outputs": [],
   "source": [
    "print(\"Popularity over 90\")\n",
    "popularity90_map_stats_df = pd.DataFrame(popularity90_map_stats)\n",
    "popularity90_map_stats_df"
   ]
  },
  {
   "cell_type": "markdown",
   "metadata": {},
   "source": [
    "If we observe the Range column, we can see that the range of values in every category except mode decreases significantly as the popularity increases. Perhaps this suggests that the most popular songs are similar? Or it could be identifying a current trend in music taste of the majority of listeners.\n",
    "\n",
    "If we look at the Mean column we can see that danceability, key and energy increased on average as popularity increased. We can also see that average loudness and duration_ms decreased as popularity increased."
   ]
  },
  {
   "cell_type": "code",
   "execution_count": null,
   "metadata": {},
   "outputs": [],
   "source": [
    "ph.data_summary(pd.DataFrame(popularity50_map))"
   ]
  },
  {
   "cell_type": "code",
   "execution_count": null,
   "metadata": {},
   "outputs": [],
   "source": [
    "ph.data_summary(pd.DataFrame(popularity67_map))"
   ]
  },
  {
   "cell_type": "code",
   "execution_count": null,
   "metadata": {},
   "outputs": [],
   "source": [
    "ph.data_summary(pd.DataFrame(popularity90_map))"
   ]
  },
  {
   "cell_type": "markdown",
   "metadata": {},
   "source": [
    "Using the data summary function we can clearly see a reduction in the number of unique values as the popularity increases. Over 90 popularity, we only have 98 tracks remaining out of the original 114,000 songs (0.085% of the dataset remaining!). Of which there are only 22 genres, 35 albums and 39 artists."
   ]
  },
  {
   "cell_type": "markdown",
   "metadata": {},
   "source": [
    "#### The next section uses a library called Dash to visualise the data"
   ]
  },
  {
   "cell_type": "code",
   "execution_count": 27,
   "metadata": {},
   "outputs": [],
   "source": [
    "import dash_helper as dh"
   ]
  },
  {
   "cell_type": "code",
   "execution_count": null,
   "metadata": {},
   "outputs": [],
   "source": [
    "#this code block uses the dash module to visualize some of the data\n",
    "df = pd.read_csv('dataset.csv')\n",
    "df = df.drop(columns=['Unnamed: 0', 'track_id']) #remove index column\n",
    "\n",
    "app = dh.Dash()\n",
    "\n",
    "app.layout = dh.compare_axes(df, app)\n",
    "\n",
    "if __name__ == '__main__':\n",
    "    app.run(debug=True)\n"
   ]
  }
 ],
 "metadata": {
  "kernelspec": {
   "display_name": ".venv",
   "language": "python",
   "name": "python3"
  },
  "language_info": {
   "codemirror_mode": {
    "name": "ipython",
    "version": 3
   },
   "file_extension": ".py",
   "mimetype": "text/x-python",
   "name": "python",
   "nbconvert_exporter": "python",
   "pygments_lexer": "ipython3",
   "version": "3.12.4"
  }
 },
 "nbformat": 4,
 "nbformat_minor": 2
}
